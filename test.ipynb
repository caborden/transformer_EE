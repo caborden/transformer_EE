{
 "cells": [
  {
   "cell_type": "code",
   "execution_count": 1,
   "metadata": {},
   "outputs": [],
   "source": [
    "import json\n",
    "from transformer_ee.train import NCtrainer\n",
    "\n",
    "import json\n",
    "\n",
    "with open(\"transformer_ee/config/input.json\", encoding=\"UTF-8\", mode=\"r\") as f:\n",
    "    input_d = json.load(f)\n",
    "input_d[\"max_num_prongs\"] = 5\n",
    "\n",
    "from transformer_ee.dataloader.load import get_train_valid_test_dataset\n"
   ]
  },
  {
   "cell_type": "code",
   "execution_count": 10,
   "metadata": {},
   "outputs": [
    {
     "name": "stdout",
     "output_type": "stream",
     "text": [
      "train indicies size:\t 80755\n",
      "valid indicies size:\t 4250\n",
      "test  indicies size:\t 21251\n",
      "Using statistics calculated by statistic()!\n"
     ]
    }
   ],
   "source": [
    "trainset, validset, testset = get_train_valid_test_dataset(input_d)"
   ]
  },
  {
   "cell_type": "code",
   "execution_count": 7,
   "metadata": {},
   "outputs": [
    {
     "data": {
      "text/plain": [
       "0        [-0.6469588018183922, -0.7311866105376371, 1.0...\n",
       "1                 [0.7220161937221597, 1.2041842715159987]\n",
       "2        [-0.5103918224389732, 0.13604843786988713, 1.5...\n",
       "3        [-0.07340759436136378, 1.7313392201841895, -1....\n",
       "4                 [0.491587505933386, -1.2792759372154747]\n",
       "                               ...                        \n",
       "80750    [1.0288731022444577, -1.5093992647908567, -1.6...\n",
       "80751    [0.05791901667992397, 0.8234000854163367, 0.31...\n",
       "80752    [-0.15992194896018314, -0.6158400155649151, -0...\n",
       "80753    [-0.19008874249205057, 0.45276375035185906, 1....\n",
       "80754    [0.22172219171226368, 0.8073084623402003, 1.11...\n",
       "Name: particle.dir.x, Length: 80755, dtype: object"
      ]
     },
     "execution_count": 7,
     "metadata": {},
     "output_type": "execute_result"
    }
   ],
   "source": [
    "trainset.normalized_df['particle.dir.x']"
   ]
  },
  {
   "cell_type": "code",
   "execution_count": 8,
   "metadata": {},
   "outputs": [
    {
     "data": {
      "text/plain": [
       "0        [-0.299818, -0.338986, 0.46835, 0.528173, -0.6...\n",
       "1                                     [0.336789, 0.561009]\n",
       "2                         [-0.236311, 0.0642996, 0.716533]\n",
       "3             [-0.0331026, 0.806149, -0.497495, -0.566471]\n",
       "4                                    [0.229634, -0.593861]\n",
       "                               ...                        \n",
       "80750                      [0.479485, -0.700874, -0.76855]\n",
       "80751    [0.0279675, 0.383935, 0.148773, -0.241701, -0....\n",
       "80752        [-0.0733339, -0.285347, -0.441486, -0.864872]\n",
       "80753    [-0.0873622, 0.21158, 0.588415, 0.0792937, 0.9...\n",
       "80754    [0.10414, 0.376452, 0.518053, -0.0113334, -0.0...\n",
       "Name: particle.dir.x, Length: 80755, dtype: object"
      ]
     },
     "execution_count": 8,
     "metadata": {},
     "output_type": "execute_result"
    }
   ],
   "source": [
    "trainset.df['particle.dir.x']"
   ]
  },
  {
   "cell_type": "code",
   "execution_count": 9,
   "metadata": {},
   "outputs": [
    {
     "data": {
      "text/plain": [
       "<AxesSubplot: >"
      ]
     },
     "execution_count": 9,
     "metadata": {},
     "output_type": "execute_result"
    },
    {
     "data": {
      "image/png": "[encoded data removed]",
      "text/plain": [
       "<Figure size 640x480 with 1 Axes>"
      ]
     },
     "metadata": {},
     "output_type": "display_data"
    }
   ],
   "source": [
    "testset.normalized_df['mc.nuE'].hist(bins=100)"
   ]
  },
  {
   "cell_type": "code",
   "execution_count": 2,
   "metadata": {},
   "outputs": [
    {
     "ename": "TypeError",
     "evalue": "Normalized_pandas_Dataset_with_cache.__init__() missing 1 required positional argument: 'dtframe'",
     "output_type": "error",
     "traceback": [
      "\u001b[0;31m---------------------------------------------------------------------------\u001b[0m",
      "\u001b[0;31mTypeError\u001b[0m                                 Traceback (most recent call last)",
      "Cell \u001b[0;32mIn [2], line 1\u001b[0m\n\u001b[0;32m----> 1\u001b[0m ds1\u001b[39m=\u001b[39mNormalized_pandas_Dataset_with_cache(input_d)\n",
      "\u001b[0;31mTypeError\u001b[0m: Normalized_pandas_Dataset_with_cache.__init__() missing 1 required positional argument: 'dtframe'"
     ]
    }
   ],
   "source": [
    "ds1 = Normalized_pandas_Dataset_with_cache(input_d)\n"
   ]
  },
  {
   "cell_type": "code",
   "execution_count": 39,
   "metadata": {},
   "outputs": [
    {
     "ename": "ValueError",
     "evalue": "Already normalized! Do not call statistic() again!",
     "output_type": "error",
     "traceback": [
      "\u001b[0;31m---------------------------------------------------------------------------\u001b[0m",
      "\u001b[0;31mValueError\u001b[0m                                Traceback (most recent call last)",
      "Cell \u001b[0;32mIn [39], line 1\u001b[0m\n\u001b[0;32m----> 1\u001b[0m stat1\u001b[39m=\u001b[39mds1\u001b[39m.\u001b[39;49mstatistic()\n",
      "File \u001b[0;32m~/Documents/transformer_EE/transformer_ee/dataloader/pd_dataset.py:57\u001b[0m, in \u001b[0;36mNormalized_pandas_Dataset_with_cache.statistic\u001b[0;34m(self)\u001b[0m\n\u001b[1;32m     53\u001b[0m \u001b[39m\"\"\"\u001b[39;00m\n\u001b[1;32m     54\u001b[0m \u001b[39mCalculate the mean and standard deviation with respect to each column.\u001b[39;00m\n\u001b[1;32m     55\u001b[0m \u001b[39m\"\"\"\u001b[39;00m\n\u001b[1;32m     56\u001b[0m \u001b[39mif\u001b[39;00m \u001b[39mself\u001b[39m\u001b[39m.\u001b[39mnormalized:\n\u001b[0;32m---> 57\u001b[0m     \u001b[39mraise\u001b[39;00m \u001b[39mValueError\u001b[39;00m(\u001b[39m\"\u001b[39m\u001b[39mAlready normalized! Do not call statistic() again!\u001b[39m\u001b[39m\"\u001b[39m)\n\u001b[1;32m     59\u001b[0m \u001b[39m# calculate mean and std for sequence features\u001b[39;00m\n\u001b[1;32m     60\u001b[0m \u001b[39mfor\u001b[39;00m sequence_name \u001b[39min\u001b[39;00m \u001b[39mself\u001b[39m\u001b[39m.\u001b[39mvectornames:\n",
      "\u001b[0;31mValueError\u001b[0m: Already normalized! Do not call statistic() again!"
     ]
    }
   ],
   "source": [
    "stat1 = ds1.statistic()\n"
   ]
  },
  {
   "cell_type": "code",
   "execution_count": 34,
   "metadata": {},
   "outputs": [],
   "source": [
    "ds1.normalize(stat1)\n"
   ]
  },
  {
   "cell_type": "code",
   "execution_count": 38,
   "metadata": {},
   "outputs": [
    {
     "data": {
      "text/plain": [
       "torch.Size([5, 12])"
      ]
     },
     "execution_count": 38,
     "metadata": {},
     "output_type": "execute_result"
    }
   ],
   "source": [
    "ds1[100][0].shape\n"
   ]
  },
  {
   "cell_type": "code",
   "execution_count": null,
   "metadata": {},
   "outputs": [],
   "source": []
  },
  {
   "cell_type": "code",
   "execution_count": 9,
   "metadata": {},
   "outputs": [],
   "source": [
    "import torch\n",
    "\n",
    "input_var = torch.randn(2, 3, 4)\n"
   ]
  },
  {
   "cell_type": "code",
   "execution_count": 8,
   "metadata": {},
   "outputs": [
    {
     "data": {
      "text/plain": [
       "tensor([[[ 0.1962,  1.4291,  0.2983, -0.5029],\n",
       "         [-1.2856, -0.6348,  1.2027,  0.3568],\n",
       "         [-0.2199, -1.0757,  1.0756,  0.0305]],\n",
       "\n",
       "        [[-0.4213, -0.6057,  0.9746,  1.2082],\n",
       "         [-0.7244, -0.3106, -0.2076, -1.2642],\n",
       "         [-0.3177,  0.2050, -0.4151, -1.9087]]])"
      ]
     },
     "execution_count": 8,
     "metadata": {},
     "output_type": "execute_result"
    }
   ],
   "source": [
    "torch.permute(input_var, (1, 0, 2))\n"
   ]
  },
  {
   "cell_type": "code",
   "execution_count": 11,
   "metadata": {},
   "outputs": [
    {
     "data": {
      "text/plain": [
       "torch.Size([3])"
      ]
     },
     "execution_count": 11,
     "metadata": {},
     "output_type": "execute_result"
    }
   ],
   "source": [
    "torch.tensor([1, 2, 3]).shape\n"
   ]
  },
  {
   "cell_type": "code",
   "execution_count": null,
   "metadata": {},
   "outputs": [],
   "source": []
  }
 ],
 "metadata": {
  "kernelspec": {
   "display_name": "Python 3",
   "language": "python",
   "name": "python3"
  },
  "language_info": {
   "codemirror_mode": {
    "name": "ipython",
    "version": 3
   },
   "file_extension": ".py",
   "mimetype": "text/x-python",
   "name": "python",
   "nbconvert_exporter": "python",
   "pygments_lexer": "ipython3",
   "version": "3.10.9"
  },
  "orig_nbformat": 4,
  "vscode": {
   "interpreter": {
    "hash": "b0fa6594d8f4cbf19f97940f81e996739fb7646882a419484c72d19e05852a7e"
   }
  }
 },
 "nbformat": 4,
 "nbformat_minor": 2
}
